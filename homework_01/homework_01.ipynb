{
 "cells": [
  {
   "cell_type": "markdown",
   "id": "8955a739",
   "metadata": {},
   "source": [
    "# Домашнее задание: Базовые типы данных\n",
    "\n"
   ]
  },
  {
   "cell_type": "markdown",
   "id": "d4e67b86",
   "metadata": {},
   "source": [
    "## Задание 1: Зеркальное отражение цифр\n",
    "\n",
    "Пользователь вводит пятизначное число. Программа должна зеркально отразить три центральные цифры. Первая и последняя остаются на местах.\n",
    "\n",
    "<br>\n",
    "\n",
    "**Примеры:**\n",
    "* `23456 -> 25436`\n",
    "* `30789 -> 38709`"
   ]
  },
  {
   "cell_type": "code",
   "execution_count": null,
   "id": "5a4d665d",
   "metadata": {},
   "outputs": [],
   "source": [
    "inp = [23456, 30789]\n",
    "result_1 = [0] * len(inp)\n",
    "result_2 = [0] * len(inp) \n",
    "output = [25436, 38709]\n",
    "\n",
    "# Первая попытка (дженерик способ для любой длины)\n",
    "def mirror_digits(num):\n",
    "    num_str = str(num)\n",
    "    num_len = len(num_str)\n",
    "    result = [''] * num_len\n",
    "    for i in range(num_len):\n",
    "        if i == 0 or i == num_len - 1:\n",
    "            result[i] = num_str[i]\n",
    "        else:\n",
    "            result[num_len - (i + 1)] = num_str[i]\n",
    "    return int(''.join(result))\n",
    "\n",
    "# Перечитал задание (на вход только строка из 5 символов)\n",
    "def mirror_digits_5(num_str: str):\n",
    "    assert len(num_str) == 5, 'string length in not equal to 5'\n",
    "    num = int(num_str)\n",
    "    assert 10000 <= num <= 99999, 'number is not in range from 10000 to 99999'\n",
    "    return int(num_str[0] + num_str[-2:-5:-1] + num_str[4])\n",
    "\n",
    "for i in range(len(inp)):\n",
    "    current_value = inp[i]\n",
    "    result_2[i] = mirror_digits_5(str(current_value))\n",
    "    result_1[i] = mirror_digits(current_value)\n",
    "\n",
    "assert result_1 == output, \"result_1 contatins incorrect values\"\n",
    "assert result_2 == output, \"result_2 contatins incorrect values\""
   ]
  },
  {
   "cell_type": "markdown",
   "id": "00b9578b",
   "metadata": {},
   "source": [
    "## Задание 2: Подсчет выходных до отпуска\n",
    "\n",
    "Пользователь вводит сколько дней осталось до ближайшего отпуска. Программа должна вывести количество выходных дней до отпуска, если учесть, что выходные это суббота и воскресенье, сегодня понедельник и праздники мы не учитываем.  \n",
    "\n",
    "<br>\n",
    "\n",
    "**Примеры:**\n",
    "* `4  -> 0`\n",
    "* `6  -> 1`\n",
    "* `14 -> 4`"
   ]
  },
  {
   "cell_type": "code",
   "execution_count": null,
   "id": "07154103",
   "metadata": {},
   "outputs": [],
   "source": [
    "inp = [4, 6, 14, 5, 21, 25, 27]\n",
    "output = [0, 1, 4, 0, 6, 6, 7]\n",
    "result = [0] * len(inp)\n",
    "\n",
    "def caclulate_days_until_holydays(days):\n",
    "    assert days > 0, 'days count can`t be less than 0'\n",
    "    weekends = days // 7 * 2\n",
    "    if 7 - days % 7 == 1:\n",
    "        weekends += 1\n",
    "    return weekends \n",
    "   \n",
    "for i in range(len(inp)):\n",
    "    result[i] = caclulate_days_until_holydays(inp[i])\n",
    "    \n",
    "assert output == result, \"result contatins incorrect values\"   "
   ]
  },
  {
   "cell_type": "markdown",
   "id": "cdde282c",
   "metadata": {},
   "source": [
    "## Задание 3: Плитка шоколада\n",
    "\n",
    "Пользователь вводит длину и ширину плитки шоколада, а также размер куска, который хочет отломить. Программа должна вычислить - можно ли совершить подобный разлом или нет, если учесть, что ломать можно только по прямой.\n",
    "\n",
    "<br>\n",
    "\n",
    "**Примеры:**\n",
    "* `3, 4, 6  -> True`\n",
    "* `5, 7, 8  -> False`\n",
    "* `4, 5, 12 -> True`"
   ]
  },
  {
   "cell_type": "code",
   "execution_count": null,
   "id": "70f3324c",
   "metadata": {},
   "outputs": [],
   "source": [
    "inp = [[3,4,6], [5,7,8], [4,5,12], [6,2,12]]\n",
    "output = [True, False, True, False]\n",
    "result = [None] * len(output)\n",
    "\n",
    "def is_break_possible(height, width, chunk):\n",
    "    if chunk == height * width:\n",
    "        return False\n",
    "    if chunk % height == 0 and chunk // height < width:\n",
    "        return True\n",
    "    elif chunk % width == 0 and chunk // width < height:\n",
    "        return True\n",
    "    return False\n",
    "\n",
    "for i in range(len(inp)):\n",
    "    result[i] = is_break_possible(*inp[i])\n",
    "\n",
    "assert output == result, \"result contatins incorrect values\"       "
   ]
  },
  {
   "cell_type": "markdown",
   "id": "6470efc1",
   "metadata": {},
   "source": [
    "## Задание 4: Римские числа\n",
    "\n",
    "Пользователь вводит целое положительное число, программа должна вернуть строку в виде римского числа.\n",
    "\n",
    "<br>\n",
    "\n",
    "**Примеры:**\n",
    "* `3   -> III`\n",
    "* `15  -> XV`\n",
    "* `234 -> CCXXXIV`"
   ]
  },
  {
   "cell_type": "code",
   "execution_count": null,
   "id": "8686127c",
   "metadata": {},
   "outputs": [],
   "source": [
    "inp = [3, 15, 234]\n",
    "output = ['III', 'XV', 'CCXXXIV']\n",
    "result = [''] * len(output)\n",
    "\n",
    "def as_roman_digit(dig, min_r, mid_r, max_r):\n",
    "    if dig <= 3:\n",
    "        return min_r * dig\n",
    "    elif dig == 4:\n",
    "        return min_r + mid_r\n",
    "    elif dig == 5:\n",
    "        return mid_r\n",
    "    elif dig > 5 and dig < 9:\n",
    "        return mid_r + min_r * dig - 5\n",
    "    elif dig == 9:\n",
    "        return min_r + max_r\n",
    "    else:\n",
    "        assert False, \"wrong argument for `num` (it should be from 0 to 9)\"\n",
    "\n",
    "roman_digits = ['I', 'V', 'X', 'L', 'C', 'D', 'M']\n",
    "def number_to_roman(num):\n",
    "    assert 0 < num <= 3999, \"wrong argument for `num` (it should be from 0 to 3999)\"\n",
    "    num_str = str(num)\n",
    "    roman = [''] * len(num_str)\n",
    "    number_len = len(num_str)\n",
    "    first_roman = 2 * (number_len - 1)\n",
    "    for i in range(number_len):\n",
    "        roman[i] = as_roman_digit(int(num_str[i]), roman_digits[first_roman], roman_digits[first_roman + 1], roman_digits[first_roman + 2])\n",
    "        first_roman -= 2\n",
    "    return ''.join(roman)\n",
    "\n",
    "for i in range(len(inp)):\n",
    "    result[i] = number_to_roman(inp[i])\n",
    "\n",
    "assert output == result, \"result contatins incorrect values\"  \n",
    "    "
   ]
  },
  {
   "cell_type": "markdown",
   "id": "ca6a4c0a",
   "metadata": {},
   "source": [
    "## Задание 5: Проверка на вещественное число\n",
    "\n",
    "Пользователь вводит данные, проверить - являются ли они положительным вещественным числом. Не использовать встроенные функции для проверки, только методы данных и конструкцию IF. (Дополнительное задание, по желанию - проверка на отрицательные вещественные числа)\n",
    "\n",
    "<br>\n",
    "\n",
    "**Примеры:**\n",
    "* `5.6  -> True`\n",
    "* `.78  -> True`\n",
    "* `.67. -> False`\n",
    "* `5    -> True`"
   ]
  },
  {
   "cell_type": "code",
   "execution_count": null,
   "id": "74e39179",
   "metadata": {},
   "outputs": [
    {
     "name": "stdout",
     "output_type": "stream",
     "text": [
      "[True, True, False, True, False, False, False, False]\n"
     ]
    }
   ],
   "source": [
    "inp = [' 5.6 ', '.78', '.68.', '5', 'abc', '', '-45', '-45.5']\n",
    "output = [True, True, False, True, False, False, False, False]\n",
    "result = [''] * len(output)\n",
    "\n",
    "# вместо isdigit для првоерки на отрицательыне значения\n",
    "def is_integer(s):\n",
    "    try:\n",
    "        int(s)\n",
    "        return True\n",
    "    except ValueError:\n",
    "        return False\n",
    "\n",
    "def is_real_number(string: str):\n",
    "    if string == '':\n",
    "        return False\n",
    "    \n",
    "    splitted = string.strip().split('.')\n",
    "    if len(splitted) > 2:\n",
    "        return False\n",
    "    \n",
    "    is_number = True\n",
    "    if len(splitted[0]) != 0 and splitted[0][0] == '-':\n",
    "        return False\n",
    "\n",
    "    for s in splitted:\n",
    "        if s == '': \n",
    "            continue\n",
    "        is_number = is_number and is_integer(s)\n",
    "\n",
    "    return is_number \n",
    "\n",
    "for i in range(len(inp)):\n",
    "    result[i] = is_real_number(inp[i])\n",
    "\n",
    "print(result)\n",
    "assert output == result, \"result contatins incorrect values\"  "
   ]
  },
  {
   "cell_type": "code",
   "execution_count": null,
   "id": "40c51e4e-552a-4b25-a31f-db4ba7adfc0f",
   "metadata": {},
   "outputs": [],
   "source": []
  }
 ],
 "metadata": {
  "kernelspec": {
   "display_name": "Python 3",
   "language": "python",
   "name": "python3"
  },
  "language_info": {
   "codemirror_mode": {
    "name": "ipython",
    "version": 3
   },
   "file_extension": ".py",
   "mimetype": "text/x-python",
   "name": "python",
   "nbconvert_exporter": "python",
   "pygments_lexer": "ipython3",
   "version": "3.12.10"
  }
 },
 "nbformat": 4,
 "nbformat_minor": 5
}
