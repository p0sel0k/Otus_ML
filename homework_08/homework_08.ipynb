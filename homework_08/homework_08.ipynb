{
 "cells": [
  {
   "cell_type": "markdown",
   "id": "0e885c31",
   "metadata": {},
   "source": [
    "# Линейная алгебра, математический анализ"
   ]
  },
  {
   "cell_type": "markdown",
   "id": "ecb163eb",
   "metadata": {},
   "source": []
  }
 ],
 "metadata": {
  "language_info": {
   "name": "python"
  }
 },
 "nbformat": 4,
 "nbformat_minor": 5
}
