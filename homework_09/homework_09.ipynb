{
 "cells": [
  {
   "cell_type": "markdown",
   "id": "21141da1",
   "metadata": {},
   "source": [
    "# Учимся работе с данными - от загрузки до моделирования"
   ]
  },
  {
   "cell_type": "code",
   "execution_count": null,
   "id": "0dd0f8dc",
   "metadata": {
    "vscode": {
     "languageId": "plaintext"
    }
   },
   "outputs": [],
   "source": [
    "#YOUR CODE HERE"
   ]
  }
 ],
 "metadata": {
  "language_info": {
   "name": "python"
  }
 },
 "nbformat": 4,
 "nbformat_minor": 5
}
